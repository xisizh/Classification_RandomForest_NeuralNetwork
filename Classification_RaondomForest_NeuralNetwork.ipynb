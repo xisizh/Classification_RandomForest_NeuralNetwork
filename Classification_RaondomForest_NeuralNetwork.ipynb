{
 "cells": [
  {
   "cell_type": "markdown",
   "metadata": {},
   "source": [
    "## Classifications (Random Forest and Neural Network)"
   ]
  },
  {
   "cell_type": "code",
   "execution_count": 188,
   "metadata": {},
   "outputs": [],
   "source": [
    "# import packages we will use\n",
    "import numpy as np\n",
    "import pandas as pd\n",
    "from datetime import datetime\n",
    "from scipy.stats import randint as sp_randint\n",
    "\n",
    "# packages for visualization\n",
    "import matplotlib.pyplot as plt\n",
    "import seaborn as sns\n",
    "\n",
    "# data preprocessing\n",
    "from sklearn.preprocessing import OneHotEncoder\n",
    "from sklearn.preprocessing import StandardScaler\n",
    "from sklearn.impute import SimpleImputer\n",
    "\n",
    "# ML models\n",
    "from sklearn.tree import DecisionTreeClassifier\n",
    "from sklearn.metrics import classification_report, confusion_matrix\n",
    "from sklearn.metrics import mean_squared_error\n",
    "from sklearn.ensemble import RandomForestClassifier\n",
    "from sklearn.model_selection import cross_val_score\n",
    "\n",
    "# split data\n",
    "from sklearn.model_selection import train_test_split\n",
    "\n",
    "# grid search\n",
    "from sklearn.model_selection import GridSearchCV, RandomizedSearchCV\n",
    "\n",
    "# model evaluation\n",
    "from sklearn.model_selection import ShuffleSplit\n",
    "from sklearn.model_selection import learning_curve\n",
    "from sklearn.metrics import roc_auc_score, roc_curve, auc\n",
    "\n",
    "# pipeline\n",
    "from sklearn.pipeline import Pipeline\n",
    "from sklearn.pipeline import FeatureUnion\n",
    "from sklearn.base import BaseEstimator, TransformerMixin   # avoid fit_transform()\n",
    "\n",
    "# NN models\n",
    "import tensorflow as tf\n",
    "from tensorflow import keras\n",
    "\n",
    "# save model\n",
    "from sklearn.externals import joblib\n",
    "from tensorflow.python.keras.models import load_model"
   ]
  },
  {
   "cell_type": "code",
   "execution_count": 189,
   "metadata": {},
   "outputs": [],
   "source": [
    "# record time of fitting\n",
    "def timer(start_time=None):\n",
    "    if not start_time:\n",
    "        start_time = datetime.now()\n",
    "        return start_time\n",
    "    elif start_time:\n",
    "        thour, temp_sec = divmod((datetime.now() - start_time).total_seconds(), 3600)\n",
    "        tmin, tsec = divmod(temp_sec, 60)\n",
    "        print('\\n Time taken: %i hours %i minutes and %s seconds.' % (thour, tmin, round(tsec, 2)))\n",
    "        \n",
    "\n",
    "# select numerical featuers and categorical featrues from dataframe\n",
    "class DataFrameSelector(BaseEstimator, TransformerMixin):\n",
    "    def __init__(self, attribute_names):\n",
    "        self.attribute_names = attribute_names\n",
    "    def fit(self, X, y=None):\n",
    "        return self\n",
    "    def transform(self, X):\n",
    "        return X[self.attribute_names].values\n",
    "    \n",
    "# help function to plot ROC curve for randomforest\n",
    "def ROC_Curve_rf(rf, X_test, y_test):\n",
    "    y_scores = rf.predict_proba(X_test)[:, 1]   # prob of positive class\n",
    "    false_positive, true_positive, _ = roc_curve(y_test, y_scores)\n",
    "    \n",
    "    auc = roc_auc_score(y_test, y_scores)\n",
    "\n",
    "    plt.figure()\n",
    "    plt.plot([0, 1], [0, 1], 'k--')\n",
    "    plt.plot(false_positive, true_positive, color='darkorange', label='Random Forest')\n",
    "    plt.xlabel('False positive rate')\n",
    "    plt.ylabel('True positive rate')\n",
    "    plt.title('ROC curve (area = %0.2f)' % auc)\n",
    "    plt.legend(loc='best')\n",
    "    plt.show()\n",
    "    return\n",
    "\n",
    "# help function to plot ROC curve for nn\n",
    "def ROC_Curve_nn(nn, X_test, y_test):\n",
    "    y_scores = nn.predict_proba(X_test)\n",
    "    false_positive, true_positive, _ = roc_curve(y_test, y_scores)\n",
    "    \n",
    "    auc = roc_auc_score(y_test, y_scores)\n",
    "\n",
    "    plt.figure()\n",
    "    plt.plot([0, 1], [0, 1], 'k--')\n",
    "    plt.plot(false_positive, true_positive, color='darkorange', label='Neural Network')\n",
    "    plt.xlabel('False positive rate')\n",
    "    plt.ylabel('True positive rate')\n",
    "    plt.title('ROC curve (area = %0.2f)' % auc)\n",
    "    plt.legend(loc='best')\n",
    "    plt.show()\n",
    "    return\n",
    "\n",
    "def plot_feature_importances_rf(top_n):\n",
    "    cat_encoder = cat_pipeline.named_steps['cat_encoder']\n",
    "    temp = [list(x) for x in cat_encoder.categories_]\n",
    "    cat_1hot_attribs = []\n",
    "    for x in temp:\n",
    "        cat_1hot_attribs += x\n",
    "    attribs = num_attribs + cat_1hot_attribs\n",
    "\n",
    "    # print('\\n The top 20 important features and their relevant importances')\n",
    "    # sorted(zip(rf_loaded.feature_importances_, attribs), reverse=True)[:20]\n",
    "\n",
    "    lst = sorted(zip(rf_loaded.feature_importances_, attribs), reverse=True)[:top_n]\n",
    "    lst_importances = []\n",
    "    lst_features = []\n",
    "    for x in lst:\n",
    "        lst_importances.append(x[0])\n",
    "        lst_features.append(x[1])\n",
    "\n",
    "    # Plot the feature importances of the forest\n",
    "    plt.figure(figsize=(10,6))\n",
    "    sns.set(style=\"whitegrid\")\n",
    "    ax = sns.barplot(x=c, y=b)\n",
    "    plt.title('Top 20 relative Important features')\n",
    "    \n",
    "    return\n",
    "\n",
    "def Plot_learning_curve(estimator, title, X, y, ylim = None, cv = None,\n",
    "                        n_jobs = 1, train_sizes = np.linspace(0.1, 1.0, 5)):\n",
    "    plt.figure()\n",
    "    plt.title(title)\n",
    "    if ylim is not None:\n",
    "        plt.ylim(*ylim)\n",
    "    plt.xlabel(\"Training examples\")\n",
    "    plt.ylabel(\"Score\")\n",
    "    train_sizes, train_scores, test_scores = learning_curve(estimator, \n",
    "                                                            X, y,\n",
    "                                                            cv = cv,\n",
    "                                                            n_jobs = n_jobs,\n",
    "                                                            train_sizes = train_sizes)\n",
    "    train_scores_mean = np.mean(train_scores, axis=1)\n",
    "    train_scores_std = np.std(train_scores, axis=1)\n",
    "    test_scores_mean = np.mean(test_scores, axis=1)\n",
    "    test_scores_std = np.std(test_scores, axis=1)\n",
    "    \n",
    "    # box-like grid\n",
    "    plt.grid()\n",
    "    \n",
    "    # plot the std deviation as a transparent range at each training set size\n",
    "    plt.fill_between(train_sizes, train_scores_mean - train_scores_std,\n",
    "                     train_scores_mean + train_scores_std, alpha=0.1,\n",
    "                     color=\"r\")\n",
    "    plt.fill_between(train_sizes, test_scores_mean - test_scores_std,\n",
    "                     test_scores_mean + test_scores_std, alpha=0.1, color=\"g\")\n",
    "    \n",
    "    # plot the average training and test score lines at each training set size\n",
    "    plt.plot(train_sizes, train_scores_mean, 'o-', color=\"r\",\n",
    "             label=\"Training score\")\n",
    "    plt.plot(train_sizes, test_scores_mean, 'o-', color=\"g\",\n",
    "             label=\"Cross-validation score\")\n",
    "\n",
    "    plt.legend(loc=\"best\")\n",
    "    \n",
    "    # shows error from 0.6 to 1\n",
    "    plt.ylim(.6, 1)\n",
    "    plt.show()\n",
    "    return\n",
    "\n",
    "def transformation_test(test_data):\n",
    "    # convert 'friday' to 'fri', 'wednesday' to 'wed' so on\n",
    "    x35_mapping = {'wed':'wed', 'thurday':'thur', 'wednesday':'wed', 'thur':'thur', 'tuesday':'tue', 'friday':'fri',\n",
    "                 'monday':'mon', 'fri':'fri'}\n",
    "    test_data['x35'] = test_data['x35'].map(x35_mapping)\n",
    "    \n",
    "    # remove '$' and conver x41 to numerical values\n",
    "    test_data['x41'] = test_data['x41'].str.replace('$', '', regex=False).astype('float64')\n",
    "    \n",
    "    # merge '-0.0%' and '0.0%' to '0.0%'\n",
    "    x45_mapping = {'0.01%':'0.01%', '-0.01%':'-0.01%', '0.0%':'0.0%', '-0.0%':'0.0%', '0.02%':'0.02%', '-0.02%':'-0.02%',\n",
    "              '-0.03%':'-0.03%', '0.03%':'0.03%', '-0.04%':'-0.04%', '0.04%':'0.04%'}\n",
    "    test_data['x45'] = test_data['x45'].map(x45_mapping)\n",
    "    \n",
    "    test_prepared = full_pipeline.transform(test_data)\n",
    "    \n",
    "    return test_prepared"
   ]
  },
  {
   "cell_type": "code",
   "execution_count": 190,
   "metadata": {},
   "outputs": [
    {
     "data": {
      "text/html": [
       "<div>\n",
       "<style scoped>\n",
       "    .dataframe tbody tr th:only-of-type {\n",
       "        vertical-align: middle;\n",
       "    }\n",
       "\n",
       "    .dataframe tbody tr th {\n",
       "        vertical-align: top;\n",
       "    }\n",
       "\n",
       "    .dataframe thead th {\n",
       "        text-align: right;\n",
       "    }\n",
       "</style>\n",
       "<table border=\"1\" class=\"dataframe\">\n",
       "  <thead>\n",
       "    <tr style=\"text-align: right;\">\n",
       "      <th></th>\n",
       "      <th>x0</th>\n",
       "      <th>x1</th>\n",
       "      <th>x2</th>\n",
       "      <th>x3</th>\n",
       "      <th>x4</th>\n",
       "      <th>x5</th>\n",
       "      <th>x6</th>\n",
       "      <th>x7</th>\n",
       "      <th>x8</th>\n",
       "      <th>x9</th>\n",
       "      <th>...</th>\n",
       "      <th>x90</th>\n",
       "      <th>x91</th>\n",
       "      <th>x92</th>\n",
       "      <th>x93</th>\n",
       "      <th>x94</th>\n",
       "      <th>x95</th>\n",
       "      <th>x96</th>\n",
       "      <th>x97</th>\n",
       "      <th>x98</th>\n",
       "      <th>x99</th>\n",
       "    </tr>\n",
       "  </thead>\n",
       "  <tbody>\n",
       "    <tr>\n",
       "      <th>0</th>\n",
       "      <td>-17.933519</td>\n",
       "      <td>6.559220</td>\n",
       "      <td>2.422468</td>\n",
       "      <td>-27.737392</td>\n",
       "      <td>-12.080601</td>\n",
       "      <td>-3.892934</td>\n",
       "      <td>1.067466</td>\n",
       "      <td>0.935953</td>\n",
       "      <td>10.912007</td>\n",
       "      <td>1.107144</td>\n",
       "      <td>...</td>\n",
       "      <td>-94.582358</td>\n",
       "      <td>11.107047</td>\n",
       "      <td>0.093337</td>\n",
       "      <td>asia</td>\n",
       "      <td>0.421524</td>\n",
       "      <td>35.259947</td>\n",
       "      <td>8.994318</td>\n",
       "      <td>-21.000182</td>\n",
       "      <td>-0.686588</td>\n",
       "      <td>2.949106</td>\n",
       "    </tr>\n",
       "    <tr>\n",
       "      <th>1</th>\n",
       "      <td>-37.214754</td>\n",
       "      <td>10.774930</td>\n",
       "      <td>5.404072</td>\n",
       "      <td>21.354738</td>\n",
       "      <td>0.612690</td>\n",
       "      <td>-3.093533</td>\n",
       "      <td>6.161558</td>\n",
       "      <td>-0.972156</td>\n",
       "      <td>-5.222169</td>\n",
       "      <td>0.384969</td>\n",
       "      <td>...</td>\n",
       "      <td>1.474587</td>\n",
       "      <td>-1.991846</td>\n",
       "      <td>15.666187</td>\n",
       "      <td>asia</td>\n",
       "      <td>-0.132764</td>\n",
       "      <td>-1.192563</td>\n",
       "      <td>3.885024</td>\n",
       "      <td>-37.886523</td>\n",
       "      <td>-7.730392</td>\n",
       "      <td>-1.107330</td>\n",
       "    </tr>\n",
       "    <tr>\n",
       "      <th>2</th>\n",
       "      <td>0.330441</td>\n",
       "      <td>-19.609972</td>\n",
       "      <td>-1.331804</td>\n",
       "      <td>-15.153892</td>\n",
       "      <td>19.710240</td>\n",
       "      <td>19.077300</td>\n",
       "      <td>-1.747110</td>\n",
       "      <td>0.545570</td>\n",
       "      <td>-1.464609</td>\n",
       "      <td>3.670570</td>\n",
       "      <td>...</td>\n",
       "      <td>5.160726</td>\n",
       "      <td>17.132840</td>\n",
       "      <td>-5.333012</td>\n",
       "      <td>asia</td>\n",
       "      <td>1.432308</td>\n",
       "      <td>-3.435427</td>\n",
       "      <td>-1.133450</td>\n",
       "      <td>7.426099</td>\n",
       "      <td>-5.945534</td>\n",
       "      <td>1.316312</td>\n",
       "    </tr>\n",
       "    <tr>\n",
       "      <th>3</th>\n",
       "      <td>-13.709765</td>\n",
       "      <td>-8.011390</td>\n",
       "      <td>-1.536483</td>\n",
       "      <td>23.129497</td>\n",
       "      <td>27.880879</td>\n",
       "      <td>20.573991</td>\n",
       "      <td>-1.617689</td>\n",
       "      <td>4.129694</td>\n",
       "      <td>1.139928</td>\n",
       "      <td>2.912838</td>\n",
       "      <td>...</td>\n",
       "      <td>-26.589765</td>\n",
       "      <td>12.292136</td>\n",
       "      <td>4.177925</td>\n",
       "      <td>asia</td>\n",
       "      <td>0.733069</td>\n",
       "      <td>4.372964</td>\n",
       "      <td>15.529931</td>\n",
       "      <td>29.712153</td>\n",
       "      <td>2.240740</td>\n",
       "      <td>0.477195</td>\n",
       "    </tr>\n",
       "    <tr>\n",
       "      <th>4</th>\n",
       "      <td>-4.202598</td>\n",
       "      <td>7.076210</td>\n",
       "      <td>8.881550</td>\n",
       "      <td>23.600777</td>\n",
       "      <td>26.232164</td>\n",
       "      <td>-14.462320</td>\n",
       "      <td>3.231193</td>\n",
       "      <td>-0.069364</td>\n",
       "      <td>-7.310536</td>\n",
       "      <td>-2.268700</td>\n",
       "      <td>...</td>\n",
       "      <td>61.178243</td>\n",
       "      <td>6.218743</td>\n",
       "      <td>8.715709</td>\n",
       "      <td>asia</td>\n",
       "      <td>-0.977502</td>\n",
       "      <td>-30.085932</td>\n",
       "      <td>-8.244312</td>\n",
       "      <td>66.540331</td>\n",
       "      <td>-3.478195</td>\n",
       "      <td>-2.869702</td>\n",
       "    </tr>\n",
       "  </tbody>\n",
       "</table>\n",
       "<p>5 rows × 100 columns</p>\n",
       "</div>"
      ],
      "text/plain": [
       "          x0         x1        x2         x3         x4         x5        x6  \\\n",
       "0 -17.933519   6.559220  2.422468 -27.737392 -12.080601  -3.892934  1.067466   \n",
       "1 -37.214754  10.774930  5.404072  21.354738   0.612690  -3.093533  6.161558   \n",
       "2   0.330441 -19.609972 -1.331804 -15.153892  19.710240  19.077300 -1.747110   \n",
       "3 -13.709765  -8.011390 -1.536483  23.129497  27.880879  20.573991 -1.617689   \n",
       "4  -4.202598   7.076210  8.881550  23.600777  26.232164 -14.462320  3.231193   \n",
       "\n",
       "         x7         x8        x9    ...           x90        x91        x92  \\\n",
       "0  0.935953  10.912007  1.107144    ...    -94.582358  11.107047   0.093337   \n",
       "1 -0.972156  -5.222169  0.384969    ...      1.474587  -1.991846  15.666187   \n",
       "2  0.545570  -1.464609  3.670570    ...      5.160726  17.132840  -5.333012   \n",
       "3  4.129694   1.139928  2.912838    ...    -26.589765  12.292136   4.177925   \n",
       "4 -0.069364  -7.310536 -2.268700    ...     61.178243   6.218743   8.715709   \n",
       "\n",
       "    x93       x94        x95        x96        x97       x98       x99  \n",
       "0  asia  0.421524  35.259947   8.994318 -21.000182 -0.686588  2.949106  \n",
       "1  asia -0.132764  -1.192563   3.885024 -37.886523 -7.730392 -1.107330  \n",
       "2  asia  1.432308  -3.435427  -1.133450   7.426099 -5.945534  1.316312  \n",
       "3  asia  0.733069   4.372964  15.529931  29.712153  2.240740  0.477195  \n",
       "4  asia -0.977502 -30.085932  -8.244312  66.540331 -3.478195 -2.869702  \n",
       "\n",
       "[5 rows x 100 columns]"
      ]
     },
     "execution_count": 190,
     "metadata": {},
     "output_type": "execute_result"
    }
   ],
   "source": [
    "# load the train and test data\n",
    "data = pd.read_csv('../Classification_RandomForest_NeuralNetwork/exercise_04_train.csv')\n",
    "test = pd.read_csv('../Classification_RandomForest_NeuralNetwork/exercise_04_test.csv')\n",
    "\n",
    "X = data.drop('y', axis=1)\n",
    "y = data['y'].copy()\n",
    "\n",
    "X.head()"
   ]
  },
  {
   "cell_type": "code",
   "execution_count": 191,
   "metadata": {},
   "outputs": [
    {
     "name": "stdout",
     "output_type": "stream",
     "text": [
      "\n",
      " Shape of training data: (40000, 101)\n",
      "\n",
      " Shape of test data: (10000, 100)\n"
     ]
    }
   ],
   "source": [
    "print('\\n Shape of training data:', data.shape)\n",
    "print('\\n Shape of test data:', test.shape)"
   ]
  },
  {
   "cell_type": "code",
   "execution_count": 192,
   "metadata": {},
   "outputs": [
    {
     "name": "stdout",
     "output_type": "stream",
     "text": [
      "<class 'pandas.core.frame.DataFrame'>\n",
      "RangeIndex: 40000 entries, 0 to 39999\n",
      "Data columns (total 100 columns):\n",
      "x0     39989 non-null float64\n",
      "x1     39989 non-null float64\n",
      "x2     39993 non-null float64\n",
      "x3     39991 non-null float64\n",
      "x4     39992 non-null float64\n",
      "x5     39989 non-null float64\n",
      "x6     39993 non-null float64\n",
      "x7     39988 non-null float64\n",
      "x8     39996 non-null float64\n",
      "x9     39992 non-null float64\n",
      "x10    39990 non-null float64\n",
      "x11    39994 non-null float64\n",
      "x12    39988 non-null float64\n",
      "x13    39989 non-null float64\n",
      "x14    39997 non-null float64\n",
      "x15    39994 non-null float64\n",
      "x16    39993 non-null float64\n",
      "x17    39990 non-null float64\n",
      "x18    39987 non-null float64\n",
      "x19    39993 non-null float64\n",
      "x20    39995 non-null float64\n",
      "x21    39985 non-null float64\n",
      "x22    39993 non-null float64\n",
      "x23    39994 non-null float64\n",
      "x24    39988 non-null float64\n",
      "x25    39992 non-null float64\n",
      "x26    39991 non-null float64\n",
      "x27    39996 non-null float64\n",
      "x28    39991 non-null float64\n",
      "x29    39995 non-null float64\n",
      "x30    39995 non-null float64\n",
      "x31    39993 non-null float64\n",
      "x32    39994 non-null float64\n",
      "x33    39991 non-null float64\n",
      "x34    39992 non-null object\n",
      "x35    39989 non-null object\n",
      "x36    39994 non-null float64\n",
      "x37    39995 non-null float64\n",
      "x38    39995 non-null float64\n",
      "x39    39992 non-null float64\n",
      "x40    39992 non-null float64\n",
      "x41    39994 non-null object\n",
      "x42    39987 non-null float64\n",
      "x43    39998 non-null float64\n",
      "x44    39996 non-null float64\n",
      "x45    39995 non-null object\n",
      "x46    39990 non-null float64\n",
      "x47    39995 non-null float64\n",
      "x48    39992 non-null float64\n",
      "x49    39997 non-null float64\n",
      "x50    39993 non-null float64\n",
      "x51    39989 non-null float64\n",
      "x52    39990 non-null float64\n",
      "x53    39995 non-null float64\n",
      "x54    39994 non-null float64\n",
      "x55    39984 non-null float64\n",
      "x56    39989 non-null float64\n",
      "x57    39993 non-null float64\n",
      "x58    39992 non-null float64\n",
      "x59    39992 non-null float64\n",
      "x60    39989 non-null float64\n",
      "x61    39994 non-null float64\n",
      "x62    39988 non-null float64\n",
      "x63    39987 non-null float64\n",
      "x64    39994 non-null float64\n",
      "x65    39988 non-null float64\n",
      "x66    39991 non-null float64\n",
      "x67    39994 non-null float64\n",
      "x68    39989 non-null object\n",
      "x69    39989 non-null float64\n",
      "x70    39996 non-null float64\n",
      "x71    39995 non-null float64\n",
      "x72    39990 non-null float64\n",
      "x73    39992 non-null float64\n",
      "x74    39993 non-null float64\n",
      "x75    39990 non-null float64\n",
      "x76    39989 non-null float64\n",
      "x77    39993 non-null float64\n",
      "x78    39991 non-null float64\n",
      "x79    39993 non-null float64\n",
      "x80    39993 non-null float64\n",
      "x81    39996 non-null float64\n",
      "x82    39993 non-null float64\n",
      "x83    39995 non-null float64\n",
      "x84    39997 non-null float64\n",
      "x85    39988 non-null float64\n",
      "x86    39991 non-null float64\n",
      "x87    39993 non-null float64\n",
      "x88    39996 non-null float64\n",
      "x89    39989 non-null float64\n",
      "x90    39995 non-null float64\n",
      "x91    39995 non-null float64\n",
      "x92    39992 non-null float64\n",
      "x93    39993 non-null object\n",
      "x94    39990 non-null float64\n",
      "x95    39992 non-null float64\n",
      "x96    39985 non-null float64\n",
      "x97    39991 non-null float64\n",
      "x98    39995 non-null float64\n",
      "x99    39990 non-null float64\n",
      "dtypes: float64(94), object(6)\n",
      "memory usage: 30.5+ MB\n"
     ]
    }
   ],
   "source": [
    "# get a quick description of train data\n",
    "X.info()"
   ]
  },
  {
   "cell_type": "code",
   "execution_count": 193,
   "metadata": {},
   "outputs": [
    {
     "name": "stdout",
     "output_type": "stream",
     "text": [
      "y has missing value? False\n"
     ]
    }
   ],
   "source": [
    "print('y has missing value?', y.isnull().any())"
   ]
  },
  {
   "cell_type": "markdown",
   "metadata": {},
   "source": [
    "## Preprocess categorical data"
   ]
  },
  {
   "cell_type": "code",
   "execution_count": 196,
   "metadata": {},
   "outputs": [
    {
     "data": {
      "text/html": [
       "<div>\n",
       "<style scoped>\n",
       "    .dataframe tbody tr th:only-of-type {\n",
       "        vertical-align: middle;\n",
       "    }\n",
       "\n",
       "    .dataframe tbody tr th {\n",
       "        vertical-align: top;\n",
       "    }\n",
       "\n",
       "    .dataframe thead th {\n",
       "        text-align: right;\n",
       "    }\n",
       "</style>\n",
       "<table border=\"1\" class=\"dataframe\">\n",
       "  <thead>\n",
       "    <tr style=\"text-align: right;\">\n",
       "      <th></th>\n",
       "      <th>x34</th>\n",
       "      <th>x35</th>\n",
       "      <th>x41</th>\n",
       "      <th>x45</th>\n",
       "      <th>x68</th>\n",
       "      <th>x93</th>\n",
       "    </tr>\n",
       "  </thead>\n",
       "  <tbody>\n",
       "    <tr>\n",
       "      <th>count</th>\n",
       "      <td>39992</td>\n",
       "      <td>39989</td>\n",
       "      <td>39994</td>\n",
       "      <td>39995</td>\n",
       "      <td>39989</td>\n",
       "      <td>39993</td>\n",
       "    </tr>\n",
       "    <tr>\n",
       "      <th>unique</th>\n",
       "      <td>10</td>\n",
       "      <td>8</td>\n",
       "      <td>37813</td>\n",
       "      <td>10</td>\n",
       "      <td>12</td>\n",
       "      <td>3</td>\n",
       "    </tr>\n",
       "    <tr>\n",
       "      <th>top</th>\n",
       "      <td>volkswagon</td>\n",
       "      <td>wed</td>\n",
       "      <td>$279.76</td>\n",
       "      <td>0.01%</td>\n",
       "      <td>July</td>\n",
       "      <td>asia</td>\n",
       "    </tr>\n",
       "    <tr>\n",
       "      <th>freq</th>\n",
       "      <td>12557</td>\n",
       "      <td>14829</td>\n",
       "      <td>4</td>\n",
       "      <td>9577</td>\n",
       "      <td>11146</td>\n",
       "      <td>35434</td>\n",
       "    </tr>\n",
       "  </tbody>\n",
       "</table>\n",
       "</div>"
      ],
      "text/plain": [
       "               x34    x35      x41    x45    x68    x93\n",
       "count        39992  39989    39994  39995  39989  39993\n",
       "unique          10      8    37813     10     12      3\n",
       "top     volkswagon    wed  $279.76  0.01%   July   asia\n",
       "freq         12557  14829        4   9577  11146  35434"
      ]
     },
     "execution_count": 196,
     "metadata": {},
     "output_type": "execute_result"
    }
   ],
   "source": [
    "# see the distribution and info for the categorical data\n",
    "X.describe(include=['O'])"
   ]
  },
  {
   "cell_type": "code",
   "execution_count": 197,
   "metadata": {},
   "outputs": [
    {
     "data": {
      "text/plain": [
       "Text(0.5,1,'x34')"
      ]
     },
     "execution_count": 197,
     "metadata": {},
     "output_type": "execute_result"
    },
    {
     "data": {
      "image/png": "[encoded data removed]",
      "text/plain": [
       "<Figure size 432x288 with 1 Axes>"
      ]
     },
     "metadata": {},
     "output_type": "display_data"
    }
   ],
   "source": [
    "# check the counts for x34\n",
    "X['x34'].value_counts().plot(kind='barh', fontsize=12).set_title('x34')"
   ]
  },
  {
   "cell_type": "markdown",
   "metadata": {},
   "source": [
    "Car brand 'Volkswagon' is the most frequent class of x34."
   ]
  },
  {
   "cell_type": "code",
   "execution_count": 198,
   "metadata": {},
   "outputs": [
    {
     "data": {
      "text/plain": [
       "Text(0.5,1,'x35')"
      ]
     },
     "execution_count": 198,
     "metadata": {},
     "output_type": "execute_result"
    },
    {
     "data": {
      "image/png": "[encoded data removed]",
      "text/plain": [
       "<Figure size 432x288 with 1 Axes>"
      ]
     },
     "metadata": {},
     "output_type": "display_data"
    }
   ],
   "source": [
    "# check the counts for x35\n",
    "X['x35'].value_counts().plot(kind='barh', fontsize=12).set_title('x35')"
   ]
  },
  {
   "cell_type": "markdown",
   "metadata": {},
   "source": [
    "'wed' is the most frequent class. Need to convert 'friday' to 'fri', 'thurday' to 'thur' etc."
   ]
  },
  {
   "cell_type": "code",
   "execution_count": 199,
   "metadata": {},
   "outputs": [
    {
     "data": {
      "text/plain": [
       "Text(0.5,1,'x35')"
      ]
     },
     "execution_count": 199,
     "metadata": {},
     "output_type": "execute_result"
    },
    {
     "data": {
      "image/png": "[encoded data removed]",
      "text/plain": [
       "<Figure size 432x288 with 1 Axes>"
      ]
     },
     "metadata": {},
     "output_type": "display_data"
    }
   ],
   "source": [
    "# convert 'friday' to 'fri', 'wednesday' to 'wed' so on\n",
    "x35_mapping = {'wed':'wed', 'thurday':'thur', 'wednesday':'wed', 'thur':'thur', 'tuesday':'tue', 'friday':'fri',\n",
    "                 'monday':'mon', 'fri':'fri'}\n",
    "X['x35'] = X['x35'].map(x35_mapping)\n",
    "X['x35'].value_counts().plot(kind='barh', fontsize=12).set_title('x35')"
   ]
  },
  {
   "cell_type": "code",
   "execution_count": 200,
   "metadata": {},
   "outputs": [],
   "source": [
    "# remove '$' and conver x41 to numerical values\n",
    "X['x41'] = X['x41'].str.replace('$', '', regex=False).astype('float64')"
   ]
  },
  {
   "cell_type": "code",
   "execution_count": 201,
   "metadata": {},
   "outputs": [
    {
     "data": {
      "text/plain": [
       "Text(0.5,1,'x45')"
      ]
     },
     "execution_count": 201,
     "metadata": {},
     "output_type": "execute_result"
    },
    {
     "data": {
      "image/png": "[encoded data removed]",
      "text/plain": [
       "<Figure size 432x288 with 1 Axes>"
      ]
     },
     "metadata": {},
     "output_type": "display_data"
    }
   ],
   "source": [
    "# check the counts for x45\n",
    "X['x45'].value_counts().plot(kind='barh', fontsize=12).set_title('x45')"
   ]
  },
  {
   "cell_type": "code",
   "execution_count": 202,
   "metadata": {},
   "outputs": [
    {
     "data": {
      "text/plain": [
       "Text(0.5,1,'x45')"
      ]
     },
     "execution_count": 202,
     "metadata": {},
     "output_type": "execute_result"
    },
    {
     "data": {
      "image/png": "[encoded data removed]",
      "text/plain": [
       "<Figure size 432x288 with 1 Axes>"
      ]
     },
     "metadata": {},
     "output_type": "display_data"
    }
   ],
   "source": [
    "# merge '-0.0%' and '0.0%' to '0.0%'\n",
    "x45_mapping = {'0.01%':'0.01%', '-0.01%':'-0.01%', '0.0%':'0.0%', '-0.0%':'0.0%', '0.02%':'0.02%', '-0.02%':'-0.02%',\n",
    "              '-0.03%':'-0.03%', '0.03%':'0.03%', '-0.04%':'-0.04%', '0.04%':'0.04%'}\n",
    "X['x45'] = X['x45'].map(x45_mapping)\n",
    "X['x45'].value_counts().plot(kind='barh', fontsize=12).set_title('x45')"
   ]
  },
  {
   "cell_type": "code",
   "execution_count": 203,
   "metadata": {},
   "outputs": [
    {
     "data": {
      "text/plain": [
       "Text(0.5,1,'x68')"
      ]
     },
     "execution_count": 203,
     "metadata": {},
     "output_type": "execute_result"
    },
    {
     "data": {
      "image/png": "[encoded data removed]",
      "text/plain": [
       "<Figure size 432x288 with 1 Axes>"
      ]
     },
     "metadata": {},
     "output_type": "display_data"
    }
   ],
   "source": [
    "# check the counts for x68\n",
    "X['x68'].value_counts().plot(kind='barh', fontsize=12).set_title('x68')"
   ]
  },
  {
   "cell_type": "code",
   "execution_count": 204,
   "metadata": {},
   "outputs": [
    {
     "data": {
      "text/plain": [
       "Text(0.5,1,'x93')"
      ]
     },
     "execution_count": 204,
     "metadata": {},
     "output_type": "execute_result"
    },
    {
     "data": {
      "image/png": "[encoded data removed]",
      "text/plain": [
       "<Figure size 432x288 with 1 Axes>"
      ]
     },
     "metadata": {},
     "output_type": "display_data"
    }
   ],
   "source": [
    "# check the counts for x93\n",
    "X['x93'].value_counts().plot(kind='barh', fontsize=12).set_title('x93')"
   ]
  },
  {
   "cell_type": "markdown",
   "metadata": {},
   "source": [
    "'asia' is the majority among all data, much more larger than the sum of the other two."
   ]
  },
  {
   "cell_type": "code",
   "execution_count": 205,
   "metadata": {},
   "outputs": [
    {
     "data": {
      "text/html": [
       "<div>\n",
       "<style scoped>\n",
       "    .dataframe tbody tr th:only-of-type {\n",
       "        vertical-align: middle;\n",
       "    }\n",
       "\n",
       "    .dataframe tbody tr th {\n",
       "        vertical-align: top;\n",
       "    }\n",
       "\n",
       "    .dataframe thead th {\n",
       "        text-align: right;\n",
       "    }\n",
       "</style>\n",
       "<table border=\"1\" class=\"dataframe\">\n",
       "  <thead>\n",
       "    <tr style=\"text-align: right;\">\n",
       "      <th></th>\n",
       "      <th>x34</th>\n",
       "      <th>x35</th>\n",
       "      <th>x45</th>\n",
       "      <th>x68</th>\n",
       "      <th>x93</th>\n",
       "    </tr>\n",
       "  </thead>\n",
       "  <tbody>\n",
       "    <tr>\n",
       "      <th>count</th>\n",
       "      <td>39992</td>\n",
       "      <td>39989</td>\n",
       "      <td>39995</td>\n",
       "      <td>39989</td>\n",
       "      <td>39993</td>\n",
       "    </tr>\n",
       "    <tr>\n",
       "      <th>unique</th>\n",
       "      <td>10</td>\n",
       "      <td>5</td>\n",
       "      <td>9</td>\n",
       "      <td>12</td>\n",
       "      <td>3</td>\n",
       "    </tr>\n",
       "    <tr>\n",
       "      <th>top</th>\n",
       "      <td>volkswagon</td>\n",
       "      <td>wed</td>\n",
       "      <td>0.0%</td>\n",
       "      <td>July</td>\n",
       "      <td>asia</td>\n",
       "    </tr>\n",
       "    <tr>\n",
       "      <th>freq</th>\n",
       "      <td>12557</td>\n",
       "      <td>20756</td>\n",
       "      <td>15524</td>\n",
       "      <td>11146</td>\n",
       "      <td>35434</td>\n",
       "    </tr>\n",
       "  </tbody>\n",
       "</table>\n",
       "</div>"
      ],
      "text/plain": [
       "               x34    x35    x45    x68    x93\n",
       "count        39992  39989  39995  39989  39993\n",
       "unique          10      5      9     12      3\n",
       "top     volkswagon    wed   0.0%   July   asia\n",
       "freq         12557  20756  15524  11146  35434"
      ]
     },
     "execution_count": 205,
     "metadata": {},
     "output_type": "execute_result"
    }
   ],
   "source": [
    "# see the distribution and info for the categorical data again\n",
    "X.describe(include=['O'])"
   ]
  },
  {
   "cell_type": "markdown",
   "metadata": {},
   "source": [
    "## Preprocess numerical data"
   ]
  },
  {
   "cell_type": "code",
   "execution_count": 206,
   "metadata": {},
   "outputs": [
    {
     "data": {
      "text/html": [
       "<div>\n",
       "<style scoped>\n",
       "    .dataframe tbody tr th:only-of-type {\n",
       "        vertical-align: middle;\n",
       "    }\n",
       "\n",
       "    .dataframe tbody tr th {\n",
       "        vertical-align: top;\n",
       "    }\n",
       "\n",
       "    .dataframe thead th {\n",
       "        text-align: right;\n",
       "    }\n",
       "</style>\n",
       "<table border=\"1\" class=\"dataframe\">\n",
       "  <thead>\n",
       "    <tr style=\"text-align: right;\">\n",
       "      <th></th>\n",
       "      <th>x0</th>\n",
       "      <th>x1</th>\n",
       "      <th>x2</th>\n",
       "      <th>x3</th>\n",
       "      <th>x4</th>\n",
       "      <th>x5</th>\n",
       "      <th>x6</th>\n",
       "      <th>x7</th>\n",
       "      <th>x8</th>\n",
       "      <th>x9</th>\n",
       "      <th>...</th>\n",
       "      <th>x89</th>\n",
       "      <th>x90</th>\n",
       "      <th>x91</th>\n",
       "      <th>x92</th>\n",
       "      <th>x94</th>\n",
       "      <th>x95</th>\n",
       "      <th>x96</th>\n",
       "      <th>x97</th>\n",
       "      <th>x98</th>\n",
       "      <th>x99</th>\n",
       "    </tr>\n",
       "  </thead>\n",
       "  <tbody>\n",
       "    <tr>\n",
       "      <th>count</th>\n",
       "      <td>39989.000000</td>\n",
       "      <td>39989.000000</td>\n",
       "      <td>39993.000000</td>\n",
       "      <td>39991.000000</td>\n",
       "      <td>39992.000000</td>\n",
       "      <td>39989.000000</td>\n",
       "      <td>39993.000000</td>\n",
       "      <td>39988.000000</td>\n",
       "      <td>39996.000000</td>\n",
       "      <td>39992.000000</td>\n",
       "      <td>...</td>\n",
       "      <td>39989.000000</td>\n",
       "      <td>39995.000000</td>\n",
       "      <td>39995.000000</td>\n",
       "      <td>39992.000000</td>\n",
       "      <td>39990.000000</td>\n",
       "      <td>39992.000000</td>\n",
       "      <td>39985.000000</td>\n",
       "      <td>39991.000000</td>\n",
       "      <td>39995.000000</td>\n",
       "      <td>39990.000000</td>\n",
       "    </tr>\n",
       "    <tr>\n",
       "      <th>mean</th>\n",
       "      <td>6.159970</td>\n",
       "      <td>-3.568111</td>\n",
       "      <td>0.223336</td>\n",
       "      <td>-1.742588</td>\n",
       "      <td>0.079437</td>\n",
       "      <td>-0.535399</td>\n",
       "      <td>0.015483</td>\n",
       "      <td>-0.011955</td>\n",
       "      <td>-3.055506</td>\n",
       "      <td>-0.023167</td>\n",
       "      <td>...</td>\n",
       "      <td>0.004848</td>\n",
       "      <td>-7.472520</td>\n",
       "      <td>-0.026534</td>\n",
       "      <td>0.016619</td>\n",
       "      <td>-0.000084</td>\n",
       "      <td>0.054600</td>\n",
       "      <td>-0.459762</td>\n",
       "      <td>-4.925135</td>\n",
       "      <td>0.033761</td>\n",
       "      <td>0.120155</td>\n",
       "    </tr>\n",
       "    <tr>\n",
       "      <th>std</th>\n",
       "      <td>29.098537</td>\n",
       "      <td>17.186748</td>\n",
       "      <td>5.237987</td>\n",
       "      <td>36.601044</td>\n",
       "      <td>21.179065</td>\n",
       "      <td>13.602122</td>\n",
       "      <td>4.110412</td>\n",
       "      <td>2.423051</td>\n",
       "      <td>13.450495</td>\n",
       "      <td>2.472008</td>\n",
       "      <td>...</td>\n",
       "      <td>2.371696</td>\n",
       "      <td>85.885663</td>\n",
       "      <td>9.446348</td>\n",
       "      <td>5.585176</td>\n",
       "      <td>1.135819</td>\n",
       "      <td>22.278277</td>\n",
       "      <td>12.702453</td>\n",
       "      <td>34.931541</td>\n",
       "      <td>5.374336</td>\n",
       "      <td>3.116143</td>\n",
       "    </tr>\n",
       "    <tr>\n",
       "      <th>min</th>\n",
       "      <td>-106.809919</td>\n",
       "      <td>-72.864290</td>\n",
       "      <td>-21.508799</td>\n",
       "      <td>-157.569819</td>\n",
       "      <td>-79.900790</td>\n",
       "      <td>-55.050043</td>\n",
       "      <td>-15.955862</td>\n",
       "      <td>-9.299563</td>\n",
       "      <td>-54.415601</td>\n",
       "      <td>-9.674058</td>\n",
       "      <td>...</td>\n",
       "      <td>-9.157992</td>\n",
       "      <td>-375.460243</td>\n",
       "      <td>-36.618364</td>\n",
       "      <td>-24.268022</td>\n",
       "      <td>-4.928351</td>\n",
       "      <td>-101.342320</td>\n",
       "      <td>-57.873114</td>\n",
       "      <td>-140.638773</td>\n",
       "      <td>-22.402508</td>\n",
       "      <td>-13.024105</td>\n",
       "    </tr>\n",
       "    <tr>\n",
       "      <th>25%</th>\n",
       "      <td>-13.617383</td>\n",
       "      <td>-15.148354</td>\n",
       "      <td>-3.295204</td>\n",
       "      <td>-26.465502</td>\n",
       "      <td>-14.215354</td>\n",
       "      <td>-9.771613</td>\n",
       "      <td>-2.770450</td>\n",
       "      <td>-1.644516</td>\n",
       "      <td>-12.055884</td>\n",
       "      <td>-1.683043</td>\n",
       "      <td>...</td>\n",
       "      <td>-1.594277</td>\n",
       "      <td>-64.312552</td>\n",
       "      <td>-6.390111</td>\n",
       "      <td>-3.764955</td>\n",
       "      <td>-0.771053</td>\n",
       "      <td>-14.881499</td>\n",
       "      <td>-8.968785</td>\n",
       "      <td>-28.431741</td>\n",
       "      <td>-3.590052</td>\n",
       "      <td>-1.992603</td>\n",
       "    </tr>\n",
       "    <tr>\n",
       "      <th>50%</th>\n",
       "      <td>6.247370</td>\n",
       "      <td>-3.660536</td>\n",
       "      <td>0.264994</td>\n",
       "      <td>-1.638876</td>\n",
       "      <td>0.113879</td>\n",
       "      <td>-0.530463</td>\n",
       "      <td>0.015259</td>\n",
       "      <td>-0.002569</td>\n",
       "      <td>-3.069374</td>\n",
       "      <td>-0.039400</td>\n",
       "      <td>...</td>\n",
       "      <td>-0.011211</td>\n",
       "      <td>-5.892459</td>\n",
       "      <td>-0.074239</td>\n",
       "      <td>0.025084</td>\n",
       "      <td>0.001850</td>\n",
       "      <td>0.239447</td>\n",
       "      <td>-0.371605</td>\n",
       "      <td>-5.023371</td>\n",
       "      <td>0.031702</td>\n",
       "      <td>0.115059</td>\n",
       "    </tr>\n",
       "    <tr>\n",
       "      <th>75%</th>\n",
       "      <td>25.570242</td>\n",
       "      <td>7.807474</td>\n",
       "      <td>3.761013</td>\n",
       "      <td>23.044686</td>\n",
       "      <td>14.365631</td>\n",
       "      <td>8.673525</td>\n",
       "      <td>2.770460</td>\n",
       "      <td>1.621142</td>\n",
       "      <td>5.910663</td>\n",
       "      <td>1.636558</td>\n",
       "      <td>...</td>\n",
       "      <td>1.600405</td>\n",
       "      <td>50.873797</td>\n",
       "      <td>6.360710</td>\n",
       "      <td>3.784911</td>\n",
       "      <td>0.767160</td>\n",
       "      <td>15.109761</td>\n",
       "      <td>8.128631</td>\n",
       "      <td>18.412348</td>\n",
       "      <td>3.663242</td>\n",
       "      <td>2.230546</td>\n",
       "    </tr>\n",
       "    <tr>\n",
       "      <th>max</th>\n",
       "      <td>134.592465</td>\n",
       "      <td>71.071223</td>\n",
       "      <td>21.060130</td>\n",
       "      <td>145.566756</td>\n",
       "      <td>89.856546</td>\n",
       "      <td>52.628375</td>\n",
       "      <td>18.546313</td>\n",
       "      <td>11.919020</td>\n",
       "      <td>54.262047</td>\n",
       "      <td>9.492780</td>\n",
       "      <td>...</td>\n",
       "      <td>9.731345</td>\n",
       "      <td>336.414571</td>\n",
       "      <td>42.835142</td>\n",
       "      <td>23.505468</td>\n",
       "      <td>4.792344</td>\n",
       "      <td>92.442885</td>\n",
       "      <td>52.159468</td>\n",
       "      <td>147.391902</td>\n",
       "      <td>21.614385</td>\n",
       "      <td>13.208294</td>\n",
       "    </tr>\n",
       "  </tbody>\n",
       "</table>\n",
       "<p>8 rows × 95 columns</p>\n",
       "</div>"
      ],
      "text/plain": [
       "                 x0            x1            x2            x3            x4  \\\n",
       "count  39989.000000  39989.000000  39993.000000  39991.000000  39992.000000   \n",
       "mean       6.159970     -3.568111      0.223336     -1.742588      0.079437   \n",
       "std       29.098537     17.186748      5.237987     36.601044     21.179065   \n",
       "min     -106.809919    -72.864290    -21.508799   -157.569819    -79.900790   \n",
       "25%      -13.617383    -15.148354     -3.295204    -26.465502    -14.215354   \n",
       "50%        6.247370     -3.660536      0.264994     -1.638876      0.113879   \n",
       "75%       25.570242      7.807474      3.761013     23.044686     14.365631   \n",
       "max      134.592465     71.071223     21.060130    145.566756     89.856546   \n",
       "\n",
       "                 x5            x6            x7            x8            x9  \\\n",
       "count  39989.000000  39993.000000  39988.000000  39996.000000  39992.000000   \n",
       "mean      -0.535399      0.015483     -0.011955     -3.055506     -0.023167   \n",
       "std       13.602122      4.110412      2.423051     13.450495      2.472008   \n",
       "min      -55.050043    -15.955862     -9.299563    -54.415601     -9.674058   \n",
       "25%       -9.771613     -2.770450     -1.644516    -12.055884     -1.683043   \n",
       "50%       -0.530463      0.015259     -0.002569     -3.069374     -0.039400   \n",
       "75%        8.673525      2.770460      1.621142      5.910663      1.636558   \n",
       "max       52.628375     18.546313     11.919020     54.262047      9.492780   \n",
       "\n",
       "           ...                x89           x90           x91           x92  \\\n",
       "count      ...       39989.000000  39995.000000  39995.000000  39992.000000   \n",
       "mean       ...           0.004848     -7.472520     -0.026534      0.016619   \n",
       "std        ...           2.371696     85.885663      9.446348      5.585176   \n",
       "min        ...          -9.157992   -375.460243    -36.618364    -24.268022   \n",
       "25%        ...          -1.594277    -64.312552     -6.390111     -3.764955   \n",
       "50%        ...          -0.011211     -5.892459     -0.074239      0.025084   \n",
       "75%        ...           1.600405     50.873797      6.360710      3.784911   \n",
       "max        ...           9.731345    336.414571     42.835142     23.505468   \n",
       "\n",
       "                x94           x95           x96           x97           x98  \\\n",
       "count  39990.000000  39992.000000  39985.000000  39991.000000  39995.000000   \n",
       "mean      -0.000084      0.054600     -0.459762     -4.925135      0.033761   \n",
       "std        1.135819     22.278277     12.702453     34.931541      5.374336   \n",
       "min       -4.928351   -101.342320    -57.873114   -140.638773    -22.402508   \n",
       "25%       -0.771053    -14.881499     -8.968785    -28.431741     -3.590052   \n",
       "50%        0.001850      0.239447     -0.371605     -5.023371      0.031702   \n",
       "75%        0.767160     15.109761      8.128631     18.412348      3.663242   \n",
       "max        4.792344     92.442885     52.159468    147.391902     21.614385   \n",
       "\n",
       "                x99  \n",
       "count  39990.000000  \n",
       "mean       0.120155  \n",
       "std        3.116143  \n",
       "min      -13.024105  \n",
       "25%       -1.992603  \n",
       "50%        0.115059  \n",
       "75%        2.230546  \n",
       "max       13.208294  \n",
       "\n",
       "[8 rows x 95 columns]"
      ]
     },
     "execution_count": 206,
     "metadata": {},
     "output_type": "execute_result"
    }
   ],
   "source": [
    "# statistics summary of the numerical variables\n",
    "X.describe()"
   ]
  },
  {
   "cell_type": "code",
   "execution_count": 207,
   "metadata": {},
   "outputs": [
    {
     "name": "stdout",
     "output_type": "stream",
     "text": [
      "Any missing values? True\n"
     ]
    },
    {
     "data": {
      "image/png": "[encoded data removed]",
      "text/plain": [
       "<Figure size 1440x432 with 1 Axes>"
      ]
     },
     "metadata": {},
     "output_type": "display_data"
    }
   ],
   "source": [
    "# check missing value\n",
    "print(\"Any missing values?\", X.isnull().values.any())\n",
    "\n",
    "# count the number of missing value for each feature\n",
    "num_of_missing_value = X.isnull().sum()\n",
    "plt.figure(figsize=(20,6))\n",
    "plt.bar(x=num_of_missing_value.index, height=num_of_missing_value.values)\n",
    "plt.ylabel('Missing values')\n",
    "plt.title('Number of missing values for each feature')\n",
    " \n",
    "plt.show()"
   ]
  },
  {
   "cell_type": "markdown",
   "metadata": {},
   "source": [
    "Summarize number of missing values for each feature. From the plot we can see that response variable y doesn't have missing value. Overall, all the features only have a small number of missing values (less than 16). So I'll imputing missing values instead of deleting any features."
   ]
  },
  {
   "cell_type": "code",
   "execution_count": 208,
   "metadata": {},
   "outputs": [
    {
     "name": "stdout",
     "output_type": "stream",
     "text": [
      "0    31880\n",
      "1     8120\n",
      "Name: y, dtype: int64\n"
     ]
    },
    {
     "data": {
      "text/html": [
       "<div>\n",
       "<style scoped>\n",
       "    .dataframe tbody tr th:only-of-type {\n",
       "        vertical-align: middle;\n",
       "    }\n",
       "\n",
       "    .dataframe tbody tr th {\n",
       "        vertical-align: top;\n",
       "    }\n",
       "\n",
       "    .dataframe thead th {\n",
       "        text-align: right;\n",
       "    }\n",
       "</style>\n",
       "<table border=\"1\" class=\"dataframe\">\n",
       "  <thead>\n",
       "    <tr style=\"text-align: right;\">\n",
       "      <th></th>\n",
       "      <th>x0</th>\n",
       "      <th>x1</th>\n",
       "      <th>x2</th>\n",
       "      <th>x3</th>\n",
       "      <th>x4</th>\n",
       "      <th>x5</th>\n",
       "      <th>x6</th>\n",
       "      <th>x7</th>\n",
       "      <th>x8</th>\n",
       "      <th>x9</th>\n",
       "      <th>...</th>\n",
       "      <th>x90</th>\n",
       "      <th>x91</th>\n",
       "      <th>x92</th>\n",
       "      <th>x93</th>\n",
       "      <th>x94</th>\n",
       "      <th>x95</th>\n",
       "      <th>x96</th>\n",
       "      <th>x97</th>\n",
       "      <th>x98</th>\n",
       "      <th>x99</th>\n",
       "    </tr>\n",
       "  </thead>\n",
       "  <tbody>\n",
       "    <tr>\n",
       "      <th>25353</th>\n",
       "      <td>-8.563586</td>\n",
       "      <td>5.435557</td>\n",
       "      <td>-1.504679</td>\n",
       "      <td>0.343222</td>\n",
       "      <td>-10.584851</td>\n",
       "      <td>-14.237021</td>\n",
       "      <td>-1.005271</td>\n",
       "      <td>0.153876</td>\n",
       "      <td>-5.844729</td>\n",
       "      <td>1.557687</td>\n",
       "      <td>...</td>\n",
       "      <td>-135.171327</td>\n",
       "      <td>-1.431403</td>\n",
       "      <td>5.783182</td>\n",
       "      <td>euorpe</td>\n",
       "      <td>-0.203064</td>\n",
       "      <td>-36.294357</td>\n",
       "      <td>-17.091361</td>\n",
       "      <td>28.988695</td>\n",
       "      <td>-8.789284</td>\n",
       "      <td>2.618071</td>\n",
       "    </tr>\n",
       "    <tr>\n",
       "      <th>25345</th>\n",
       "      <td>7.213903</td>\n",
       "      <td>-17.870397</td>\n",
       "      <td>-3.685137</td>\n",
       "      <td>33.064027</td>\n",
       "      <td>34.622677</td>\n",
       "      <td>1.861846</td>\n",
       "      <td>-2.322878</td>\n",
       "      <td>3.317763</td>\n",
       "      <td>6.495492</td>\n",
       "      <td>1.434307</td>\n",
       "      <td>...</td>\n",
       "      <td>73.929070</td>\n",
       "      <td>-1.454155</td>\n",
       "      <td>3.295312</td>\n",
       "      <td>asia</td>\n",
       "      <td>-0.835502</td>\n",
       "      <td>8.475902</td>\n",
       "      <td>-16.335395</td>\n",
       "      <td>12.568083</td>\n",
       "      <td>-4.666049</td>\n",
       "      <td>3.513758</td>\n",
       "    </tr>\n",
       "    <tr>\n",
       "      <th>6846</th>\n",
       "      <td>16.897635</td>\n",
       "      <td>25.832390</td>\n",
       "      <td>-0.806877</td>\n",
       "      <td>34.819313</td>\n",
       "      <td>-5.635905</td>\n",
       "      <td>7.157500</td>\n",
       "      <td>-1.652362</td>\n",
       "      <td>-1.822059</td>\n",
       "      <td>10.157303</td>\n",
       "      <td>-0.090437</td>\n",
       "      <td>...</td>\n",
       "      <td>-126.743908</td>\n",
       "      <td>5.901171</td>\n",
       "      <td>-7.390365</td>\n",
       "      <td>asia</td>\n",
       "      <td>1.067952</td>\n",
       "      <td>17.708499</td>\n",
       "      <td>-6.053060</td>\n",
       "      <td>-31.245151</td>\n",
       "      <td>2.875697</td>\n",
       "      <td>0.401172</td>\n",
       "    </tr>\n",
       "    <tr>\n",
       "      <th>5227</th>\n",
       "      <td>-1.565166</td>\n",
       "      <td>8.604940</td>\n",
       "      <td>5.756508</td>\n",
       "      <td>-37.458834</td>\n",
       "      <td>-7.871727</td>\n",
       "      <td>1.873589</td>\n",
       "      <td>3.419059</td>\n",
       "      <td>-0.685985</td>\n",
       "      <td>-19.584835</td>\n",
       "      <td>-2.209003</td>\n",
       "      <td>...</td>\n",
       "      <td>-76.582085</td>\n",
       "      <td>2.716217</td>\n",
       "      <td>-2.798535</td>\n",
       "      <td>asia</td>\n",
       "      <td>-0.131425</td>\n",
       "      <td>-20.237148</td>\n",
       "      <td>-0.335398</td>\n",
       "      <td>8.070695</td>\n",
       "      <td>10.800442</td>\n",
       "      <td>0.450779</td>\n",
       "    </tr>\n",
       "    <tr>\n",
       "      <th>29300</th>\n",
       "      <td>-15.899992</td>\n",
       "      <td>-14.808737</td>\n",
       "      <td>-5.527872</td>\n",
       "      <td>50.717721</td>\n",
       "      <td>2.751823</td>\n",
       "      <td>-3.081914</td>\n",
       "      <td>-0.757675</td>\n",
       "      <td>-0.297167</td>\n",
       "      <td>9.745456</td>\n",
       "      <td>0.318763</td>\n",
       "      <td>...</td>\n",
       "      <td>-66.939655</td>\n",
       "      <td>-5.660118</td>\n",
       "      <td>-6.662371</td>\n",
       "      <td>asia</td>\n",
       "      <td>-0.634636</td>\n",
       "      <td>-41.816761</td>\n",
       "      <td>3.410783</td>\n",
       "      <td>22.332020</td>\n",
       "      <td>-0.866737</td>\n",
       "      <td>0.949796</td>\n",
       "    </tr>\n",
       "  </tbody>\n",
       "</table>\n",
       "<p>5 rows × 100 columns</p>\n",
       "</div>"
      ],
      "text/plain": [
       "              x0         x1        x2         x3         x4         x5  \\\n",
       "25353  -8.563586   5.435557 -1.504679   0.343222 -10.584851 -14.237021   \n",
       "25345   7.213903 -17.870397 -3.685137  33.064027  34.622677   1.861846   \n",
       "6846   16.897635  25.832390 -0.806877  34.819313  -5.635905   7.157500   \n",
       "5227   -1.565166   8.604940  5.756508 -37.458834  -7.871727   1.873589   \n",
       "29300 -15.899992 -14.808737 -5.527872  50.717721   2.751823  -3.081914   \n",
       "\n",
       "             x6        x7         x8        x9    ...            x90  \\\n",
       "25353 -1.005271  0.153876  -5.844729  1.557687    ...    -135.171327   \n",
       "25345 -2.322878  3.317763   6.495492  1.434307    ...      73.929070   \n",
       "6846  -1.652362 -1.822059  10.157303 -0.090437    ...    -126.743908   \n",
       "5227   3.419059 -0.685985 -19.584835 -2.209003    ...     -76.582085   \n",
       "29300 -0.757675 -0.297167   9.745456  0.318763    ...     -66.939655   \n",
       "\n",
       "            x91       x92     x93       x94        x95        x96        x97  \\\n",
       "25353 -1.431403  5.783182  euorpe -0.203064 -36.294357 -17.091361  28.988695   \n",
       "25345 -1.454155  3.295312    asia -0.835502   8.475902 -16.335395  12.568083   \n",
       "6846   5.901171 -7.390365    asia  1.067952  17.708499  -6.053060 -31.245151   \n",
       "5227   2.716217 -2.798535    asia -0.131425 -20.237148  -0.335398   8.070695   \n",
       "29300 -5.660118 -6.662371    asia -0.634636 -41.816761   3.410783  22.332020   \n",
       "\n",
       "             x98       x99  \n",
       "25353  -8.789284  2.618071  \n",
       "25345  -4.666049  3.513758  \n",
       "6846    2.875697  0.401172  \n",
       "5227   10.800442  0.450779  \n",
       "29300  -0.866737  0.949796  \n",
       "\n",
       "[5 rows x 100 columns]"
      ]
     },
     "execution_count": 208,
     "metadata": {},
     "output_type": "execute_result"
    }
   ],
   "source": [
    "# check balance of y\n",
    "print(y.value_counts())\n",
    "\n",
    "# train, test split\n",
    "X_train, X_test, y_train, y_test = train_test_split(X, y, stratify=y, test_size = 0.3,random_state = 42, shuffle=True)\n",
    "\n",
    "# quick look at the train data\n",
    "X_train.head()"
   ]
  },
  {
   "cell_type": "code",
   "execution_count": 209,
   "metadata": {},
   "outputs": [
    {
     "name": "stdout",
     "output_type": "stream",
     "text": [
      "\n",
      " Shape of training data: (28000, 100)\n",
      "\n",
      " Shape of test data: (12000, 100)\n"
     ]
    }
   ],
   "source": [
    "print('\\n Shape of training data:', X_train.shape)\n",
    "print('\\n Shape of test data:', X_test.shape)"
   ]
  },
  {
   "cell_type": "markdown",
   "metadata": {},
   "source": [
    "## EDA"
   ]
  },
  {
   "cell_type": "code",
   "execution_count": 185,
   "metadata": {},
   "outputs": [
    {
     "data": {
      "image/png": "[encoded data removed]",
      "text/plain": [
       "<Figure size 720x432 with 1 Axes>"
      ]
     },
     "metadata": {},
     "output_type": "display_data"
    }
   ],
   "source": [
    "# creat a histogram for x10 for each group of y \n",
    "plt.figure(figsize=(10,6))\n",
    "train[train['y']==0]['x10'].hist(bins=30, grid=True, color='blue', alpha=0.5, label='y=0')\n",
    "data[data['y']==1]['x10'].hist(bins=30, grid=True, color='red', alpha=0.5, label='y=1')\n",
    "plt.legend()\n",
    "plt.title(\"Histogram of two x10 distributions\")\n",
    "plt.xlabel(\"x10\")\n",
    "plt.show()"
   ]
  },
  {
   "cell_type": "markdown",
   "metadata": {},
   "source": [
    "Bell shape curves. The two histograms overlap a lot, which indicates x10 doesn't help too much to predict."
   ]
  },
  {
   "cell_type": "code",
   "execution_count": 21,
   "metadata": {},
   "outputs": [],
   "source": [
    "#sns.pairplot(X_train)"
   ]
  },
  {
   "cell_type": "markdown",
   "metadata": {},
   "source": [
    "## Transformation piplines\n",
    "#### Impute, standardize numerical features and impute, encode categorical features for train and test data"
   ]
  },
  {
   "cell_type": "code",
   "execution_count": 87,
   "metadata": {},
   "outputs": [],
   "source": [
    "# split numercial and categorical features \n",
    "index = [34,35,45,68,93]\n",
    "num_attribs = list(np.delete(X_train.columns, index))\n",
    "cat_attribs = ['x34','x35','x45','x68','x93']"
   ]
  },
  {
   "cell_type": "code",
   "execution_count": 88,
   "metadata": {},
   "outputs": [
    {
     "name": "stdout",
     "output_type": "stream",
     "text": [
      "\n",
      " Shape of X_train_prepared and X_test_prepared:  (28000, 134) (12000, 134)\n"
     ]
    }
   ],
   "source": [
    "# pipeline for numerical features\n",
    "num_pipeline = Pipeline([\n",
    "    ('selector', DataFrameSelector(num_attribs)),\n",
    "    ('imputer', SimpleImputer(strategy='median')),\n",
    "    ('std_scaler', StandardScaler()),\n",
    "])\n",
    "\n",
    "# pipeline for categorical featrues\n",
    "cat_pipeline = Pipeline([\n",
    "    ('selector', DataFrameSelector(cat_attribs)),\n",
    "    ('imputer', SimpleImputer(strategy='most_frequent')),\n",
    "    ('cat_encoder', OneHotEncoder(sparse=False)),\n",
    "])\n",
    "\n",
    "# combine two pipelines\n",
    "full_pipeline = FeatureUnion(transformer_list=[\n",
    "    ('num_pipeline', num_pipeline),\n",
    "    ('cat_pipelien', cat_pipeline),\n",
    "])\n",
    "\n",
    "# transform X_train and X_test\n",
    "X_train_prepared = full_pipeline.fit_transform(X_train)\n",
    "X_test_prepared = full_pipeline.transform(X_test)\n",
    "\n",
    "print('\\n Shape of X_train_prepared and X_test_prepared: ', X_train_prepared.shape, X_test_prepared.shape)"
   ]
  },
  {
   "cell_type": "markdown",
   "metadata": {},
   "source": [
    "## Fit Random Forest"
   ]
  },
  {
   "cell_type": "markdown",
   "metadata": {},
   "source": [
    "#### Part one: fit and save model"
   ]
  },
  {
   "cell_type": "code",
   "execution_count": 91,
   "metadata": {},
   "outputs": [
    {
     "name": "stderr",
     "output_type": "stream",
     "text": [
      "/Library/Frameworks/Python.framework/Versions/3.6/lib/python3.6/site-packages/sklearn/model_selection/_split.py:2053: FutureWarning: You should specify a value for 'cv' instead of relying on the default value. The default value will change from 3 to 5 in version 0.22.\n",
      "  warnings.warn(CV_WARNING, FutureWarning)\n"
     ]
    },
    {
     "name": "stdout",
     "output_type": "stream",
     "text": [
      "\n",
      " Time taken: 0 hours 4 minutes and 5.87 seconds.\n"
     ]
    }
   ],
   "source": [
    "# RandomSearchCV for random forest\n",
    "param_dist = {'n_estimators': [10,50,100,200], 'max_features': ['sqrt',2,5,9,15], 'max_depth': [1,3,6,10,15],\n",
    "    'min_samples_leaf': [3,5,8,12], 'min_samples_split':[2,5,9,14,20], 'class_weight':[None, 'balanced']} \n",
    "\n",
    "# run randomized search\n",
    "n_iter_search = 20\n",
    "\n",
    "forest_cla = RandomForestClassifier()\n",
    "random_search = RandomizedSearchCV(forest_cla, param_distributions=param_dist, n_iter=n_iter_search, \n",
    "                                 scoring='neg_mean_squared_error')\n",
    "\n",
    "start_time = timer(None) # timing starts from this point for \"start_time\" variable\n",
    "random_search.fit(X_train_prepared, y_train)\n",
    "timer(start_time) # timing ends here for \"start_time\" variable"
   ]
  },
  {
   "cell_type": "code",
   "execution_count": 93,
   "metadata": {},
   "outputs": [
    {
     "name": "stdout",
     "output_type": "stream",
     "text": [
      "\n",
      " Best estimator:\n",
      "RandomForestClassifier(bootstrap=True, class_weight='balanced',\n",
      "            criterion='gini', max_depth=10, max_features=9,\n",
      "            max_leaf_nodes=None, min_impurity_decrease=0.0,\n",
      "            min_impurity_split=None, min_samples_leaf=12,\n",
      "            min_samples_split=14, min_weight_fraction_leaf=0.0,\n",
      "            n_estimators=100, n_jobs=None, oob_score=False,\n",
      "            random_state=None, verbose=0, warm_start=False)\n"
     ]
    }
   ],
   "source": [
    "print('\\n Best estimator:')\n",
    "print(random_search.best_estimator_)"
   ]
  },
  {
   "cell_type": "code",
   "execution_count": 94,
   "metadata": {},
   "outputs": [
    {
     "data": {
      "text/plain": [
       "['rf_final.pkl']"
      ]
     },
     "execution_count": 94,
     "metadata": {},
     "output_type": "execute_result"
    }
   ],
   "source": [
    "final_model = random_search.best_estimator_\n",
    "\n",
    "# save model using joblib\n",
    "joblib.dump(final_model, 'rf_final.pkl')"
   ]
  },
  {
   "cell_type": "markdown",
   "metadata": {},
   "source": [
    "#### Part two: load and apply the model"
   ]
  },
  {
   "cell_type": "code",
   "execution_count": 95,
   "metadata": {},
   "outputs": [],
   "source": [
    "# load model \n",
    "rf_loaded = joblib.load('rf_final.pkl')"
   ]
  },
  {
   "cell_type": "code",
   "execution_count": 96,
   "metadata": {},
   "outputs": [
    {
     "name": "stdout",
     "output_type": "stream",
     "text": [
      "\n",
      " The accuracy of training data is : 0.9815357142857143\n"
     ]
    }
   ],
   "source": [
    "final_pred_train = rf_loaded.predict(X_train_prepared)\n",
    "\n",
    "final_mse = mean_squared_error(y_train, final_pred_train)\n",
    "print('\\n The accuracy of training data is :', 1-final_mse)"
   ]
  },
  {
   "cell_type": "code",
   "execution_count": 97,
   "metadata": {},
   "outputs": [
    {
     "name": "stdout",
     "output_type": "stream",
     "text": [
      "\n",
      " The accuracy of test data is : 0.93875\n"
     ]
    }
   ],
   "source": [
    "final_pred_test = rf_loaded.predict(X_test_prepared)\n",
    "\n",
    "final_mse = mean_squared_error(y_test, final_pred_test)\n",
    "print('\\n The accuracy of test data is :', 1-final_mse)"
   ]
  },
  {
   "cell_type": "code",
   "execution_count": 146,
   "metadata": {},
   "outputs": [
    {
     "data": {
      "image/png": "[encoded data removed]",
      "text/plain": [
       "<Figure size 720x432 with 1 Axes>"
      ]
     },
     "metadata": {},
     "output_type": "display_data"
    }
   ],
   "source": [
    "# plot top 20 important features and their relevant importances\n",
    "plot_feature_importances_rf(20)"
   ]
  },
  {
   "cell_type": "code",
   "execution_count": 148,
   "metadata": {
    "scrolled": true
   },
   "outputs": [
    {
     "name": "stdout",
     "output_type": "stream",
     "text": [
      "\n",
      " The top 95 important features include 98.28 % information of data.\n"
     ]
    }
   ],
   "source": [
    "info = np.round(100*np.sum(rf_loaded.feature_importances_[0:95]), 2)\n",
    "print('\\n The top 95 important features include', info, '% information of data.')"
   ]
  },
  {
   "cell_type": "markdown",
   "metadata": {},
   "source": [
    "It indicates that I can through away about 30 useless features."
   ]
  },
  {
   "cell_type": "code",
   "execution_count": 118,
   "metadata": {},
   "outputs": [
    {
     "data": {
      "image/png": "[encoded data removed]",
      "text/plain": [
       "<Figure size 432x288 with 1 Axes>"
      ]
     },
     "metadata": {},
     "output_type": "display_data"
    }
   ],
   "source": [
    "# plot learning curve\n",
    "Plot_learning_curve(rf_loaded, 'Learning Curves', X_train_prepared, y_train, cv=5)"
   ]
  },
  {
   "cell_type": "markdown",
   "metadata": {},
   "source": [
    "Training score (red line) decreases slowly. Cross-validation score (green line) increases over time, but there's gap between cross-validation score and training score, indicates high variance (overfitting) scenario.\n",
    "Reduce complexity of the model or gather more data may help to improve."
   ]
  },
  {
   "cell_type": "code",
   "execution_count": 149,
   "metadata": {},
   "outputs": [
    {
     "name": "stdout",
     "output_type": "stream",
     "text": [
      "              precision    recall  f1-score   support\n",
      "\n",
      "           0       0.95      0.97      0.96      9564\n",
      "           1       0.88      0.81      0.84      2436\n",
      "\n",
      "   micro avg       0.94      0.94      0.94     12000\n",
      "   macro avg       0.92      0.89      0.90     12000\n",
      "weighted avg       0.94      0.94      0.94     12000\n",
      "\n",
      "Confusion Matrix for test data:\n",
      "\n",
      " [[9295  269]\n",
      " [ 466 1970]]\n"
     ]
    },
    {
     "data": {
      "image/png": "[encoded data removed]",
      "text/plain": [
       "<Figure size 432x288 with 1 Axes>"
      ]
     },
     "metadata": {},
     "output_type": "display_data"
    }
   ],
   "source": [
    "print(classification_report(y_test, final_pred_test))\n",
    "\n",
    "print('Confusion Matrix for test data:')\n",
    "print('\\n', confusion_matrix(y_test, final_pred_test))\n",
    "\n",
    "# ROC curve \n",
    "ROC_Curve_rf(rf_loaded, X_test_prepared, y_test)"
   ]
  },
  {
   "cell_type": "markdown",
   "metadata": {},
   "source": [
    "## Fit Multilayer Perceptron"
   ]
  },
  {
   "cell_type": "markdown",
   "metadata": {},
   "source": [
    "#### Part one: fit and save model"
   ]
  },
  {
   "cell_type": "code",
   "execution_count": 105,
   "metadata": {},
   "outputs": [
    {
     "name": "stdout",
     "output_type": "stream",
     "text": [
      "Epoch 1/5\n",
      "28000/28000 [==============================] - 3s 110us/step - loss: 0.3498 - acc: 0.8556\n",
      "Epoch 2/5\n",
      "28000/28000 [==============================] - 2s 80us/step - loss: 0.1930 - acc: 0.9321\n",
      "Epoch 3/5\n",
      "28000/28000 [==============================] - 2s 79us/step - loss: 0.1348 - acc: 0.9586\n",
      "Epoch 4/5\n",
      "28000/28000 [==============================] - 2s 81us/step - loss: 0.1104 - acc: 0.9698\n",
      "Epoch 5/5\n",
      "28000/28000 [==============================] - 2s 83us/step - loss: 0.1023 - acc: 0.9741\n"
     ]
    },
    {
     "data": {
      "text/plain": [
       "<tensorflow.python.keras.callbacks.History at 0x121cfdf60>"
      ]
     },
     "execution_count": 105,
     "metadata": {},
     "output_type": "execute_result"
    }
   ],
   "source": [
    "# build sequential model \n",
    "model = keras.Sequential([\n",
    "    keras.layers.Dense(150, input_dim=134, activation=tf.nn.relu),\n",
    "    keras.layers.Dropout(0.5),\n",
    "    keras.layers.Dense(150, activation=tf.nn.relu),\n",
    "    keras.layers.Dropout(0.5),\n",
    "    keras.layers.Dense(150, activation=tf.nn.relu),\n",
    "    keras.layers.Dropout(0.5),\n",
    "    keras.layers.Dense(1, activation=tf.nn.sigmoid)\n",
    "])\n",
    "\n",
    "# compile model\n",
    "model.compile(optimizer='rmsprop', loss='binary_crossentropy', metrics=['accuracy'])\n",
    "\n",
    "# fit model\n",
    "model.fit(X_train_prepared, y_train.values, epochs=5)"
   ]
  },
  {
   "cell_type": "code",
   "execution_count": 150,
   "metadata": {},
   "outputs": [],
   "source": [
    "# save model\n",
    "model.save('mlp_model.h5')"
   ]
  },
  {
   "cell_type": "markdown",
   "metadata": {},
   "source": [
    "#### Part two: load and apply model"
   ]
  },
  {
   "cell_type": "code",
   "execution_count": 151,
   "metadata": {},
   "outputs": [],
   "source": [
    "# load model \n",
    "mlp_loaded = load_model('mlp_model.h5')"
   ]
  },
  {
   "cell_type": "code",
   "execution_count": 154,
   "metadata": {},
   "outputs": [
    {
     "name": "stdout",
     "output_type": "stream",
     "text": [
      "28000/28000 [==============================] - 1s 37us/step\n",
      "\n",
      " The accuracy of training data is : 0.9895714285714285\n",
      "\n",
      "\n",
      "12000/12000 [==============================] - 0s 34us/step\n",
      "\n",
      " The accuracy of test data is : 0.9818333333333333\n",
      "\n",
      "               precision    recall  f1-score   support\n",
      "\n",
      "           0       0.98      1.00      0.99      9564\n",
      "           1       0.98      0.93      0.95      2436\n",
      "\n",
      "   micro avg       0.98      0.98      0.98     12000\n",
      "   macro avg       0.98      0.96      0.97     12000\n",
      "weighted avg       0.98      0.98      0.98     12000\n",
      "\n",
      "\n",
      " Confusion Matrix for test data:\n",
      "\n",
      " [[9524   40]\n",
      " [ 178 2258]]\n"
     ]
    },
    {
     "data": {
      "image/png": "[encoded data removed]",
      "text/plain": [
       "<Figure size 432x288 with 1 Axes>"
      ]
     },
     "metadata": {},
     "output_type": "display_data"
    }
   ],
   "source": [
    "# model evaluation and confusion matrix\n",
    "# model_pred_train = mlp_loaded.predict_classes(X_train_prepared)\n",
    "# model_mse = mean_squared_error(y_train, model_pred_train)\n",
    "train_loss, train_acc = mlp_loaded.evaluate(X_train_prepared, y_train)\n",
    "print('\\n The accuracy of training data is :', train_acc)\n",
    "print('\\n')\n",
    "\n",
    "#model_pred_test = mlp_loaded.predict_classes(X_test_prepared)\n",
    "#model_mse = mean_squared_error(y_test, model_pred_test)\n",
    "test_loss, test_acc = mlp_loaded.evaluate(X_test_prepared, y_test)\n",
    "print('\\n The accuracy of test data is :', test_acc)\n",
    "\n",
    "print('\\n', classification_report(y_test, model_pred_test))\n",
    "\n",
    "print('\\n Confusion Matrix for test data:')\n",
    "print('\\n', confusion_matrix(y_test, model_pred_test))\n",
    "\n",
    "# ROC Curve\n",
    "ROC_Curve_nn(mlp_loaded, X_test_prepared, y_test)"
   ]
  },
  {
   "cell_type": "markdown",
   "metadata": {},
   "source": [
    "## Transformation for test data"
   ]
  },
  {
   "cell_type": "code",
   "execution_count": 155,
   "metadata": {},
   "outputs": [
    {
     "data": {
      "text/html": [
       "<div>\n",
       "<style scoped>\n",
       "    .dataframe tbody tr th:only-of-type {\n",
       "        vertical-align: middle;\n",
       "    }\n",
       "\n",
       "    .dataframe tbody tr th {\n",
       "        vertical-align: top;\n",
       "    }\n",
       "\n",
       "    .dataframe thead th {\n",
       "        text-align: right;\n",
       "    }\n",
       "</style>\n",
       "<table border=\"1\" class=\"dataframe\">\n",
       "  <thead>\n",
       "    <tr style=\"text-align: right;\">\n",
       "      <th></th>\n",
       "      <th>x34</th>\n",
       "      <th>x35</th>\n",
       "      <th>x41</th>\n",
       "      <th>x45</th>\n",
       "      <th>x68</th>\n",
       "      <th>x93</th>\n",
       "    </tr>\n",
       "  </thead>\n",
       "  <tbody>\n",
       "    <tr>\n",
       "      <th>count</th>\n",
       "      <td>9999</td>\n",
       "      <td>9998</td>\n",
       "      <td>10000</td>\n",
       "      <td>9998</td>\n",
       "      <td>10000</td>\n",
       "      <td>9999</td>\n",
       "    </tr>\n",
       "    <tr>\n",
       "      <th>unique</th>\n",
       "      <td>10</td>\n",
       "      <td>8</td>\n",
       "      <td>9861</td>\n",
       "      <td>10</td>\n",
       "      <td>12</td>\n",
       "      <td>3</td>\n",
       "    </tr>\n",
       "    <tr>\n",
       "      <th>top</th>\n",
       "      <td>volkswagon</td>\n",
       "      <td>wed</td>\n",
       "      <td>$1080.34</td>\n",
       "      <td>0.01%</td>\n",
       "      <td>July</td>\n",
       "      <td>asia</td>\n",
       "    </tr>\n",
       "    <tr>\n",
       "      <th>freq</th>\n",
       "      <td>3132</td>\n",
       "      <td>3709</td>\n",
       "      <td>3</td>\n",
       "      <td>2419</td>\n",
       "      <td>2709</td>\n",
       "      <td>8850</td>\n",
       "    </tr>\n",
       "  </tbody>\n",
       "</table>\n",
       "</div>"
      ],
      "text/plain": [
       "               x34   x35       x41    x45    x68   x93\n",
       "count         9999  9998     10000   9998  10000  9999\n",
       "unique          10     8      9861     10     12     3\n",
       "top     volkswagon   wed  $1080.34  0.01%   July  asia\n",
       "freq          3132  3709         3   2419   2709  8850"
      ]
     },
     "execution_count": 155,
     "metadata": {},
     "output_type": "execute_result"
    }
   ],
   "source": [
    "test = pd.read_csv('../classification_state_farm/exercise_04_test.csv')\n",
    "test.describe(include=['O'])"
   ]
  },
  {
   "cell_type": "markdown",
   "metadata": {},
   "source": [
    "Test data also have little missing value. I'll do same transformation for test data before feed them into ML algorithms."
   ]
  },
  {
   "cell_type": "code",
   "execution_count": 156,
   "metadata": {},
   "outputs": [
    {
     "name": "stdout",
     "output_type": "stream",
     "text": [
      "Shape of prepared test data : (10000, 134)\n"
     ]
    }
   ],
   "source": [
    "# transform test data in the same way\n",
    "test_prepared = transformation_test(test)\n",
    "print('Shape of prepared test data :', test_prepared.shape)"
   ]
  },
  {
   "cell_type": "code",
   "execution_count": 163,
   "metadata": {},
   "outputs": [],
   "source": [
    "# predictions from random forest\n",
    "rf_test_prediction = rf_loaded.predict_proba(test_prepared)[:,1]"
   ]
  },
  {
   "cell_type": "code",
   "execution_count": 164,
   "metadata": {},
   "outputs": [],
   "source": [
    "# predictions from nerual network\n",
    "nn_test_prediction = mlp_loaded.predict_proba(test_prepared)"
   ]
  },
  {
   "cell_type": "code",
   "execution_count": 168,
   "metadata": {},
   "outputs": [],
   "source": [
    "# save predictions to csv files\n",
    "np.savetxt(\"results1.csv\", rf_test_prediction)\n",
    "np.savetxt(\"results2.csv\", nn_test_prediction)"
   ]
  },
  {
   "cell_type": "code",
   "execution_count": null,
   "metadata": {},
   "outputs": [],
   "source": []
  }
 ],
 "metadata": {
  "kernelspec": {
   "display_name": "Python 3",
   "language": "python",
   "name": "python3"
  },
  "language_info": {
   "codemirror_mode": {
    "name": "ipython",
    "version": 3
   },
   "file_extension": ".py",
   "mimetype": "text/x-python",
   "name": "python",
   "nbconvert_exporter": "python",
   "pygments_lexer": "ipython3",
   "version": "3.6.4"
  }
 },
 "nbformat": 4,
 "nbformat_minor": 2
}
